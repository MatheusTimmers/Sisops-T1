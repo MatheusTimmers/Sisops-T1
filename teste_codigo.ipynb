{
 "cells": [
  {
   "cell_type": "code",
   "execution_count": 6,
   "metadata": {},
   "outputs": [],
   "source": [
    "from sistema import Sistema"
   ]
  },
  {
   "cell_type": "code",
   "execution_count": 7,
   "metadata": {},
   "outputs": [
    {
     "name": "stdout",
     "output_type": "stream",
     "text": [
      "### Ambiente inicializado ###\n"
     ]
    }
   ],
   "source": [
    "os1 = Sistema()"
   ]
  },
  {
   "cell_type": "code",
   "execution_count": 8,
   "metadata": {},
   "outputs": [],
   "source": [
    "os1.cria_processo()"
   ]
  },
  {
   "cell_type": "code",
   "execution_count": 9,
   "metadata": {},
   "outputs": [
    {
     "data": {
      "text/plain": [
       "[<processos.Processo at 0x27103eedee0>]"
      ]
     },
     "execution_count": 9,
     "metadata": {},
     "output_type": "execute_result"
    }
   ],
   "source": [
    "os1.tempo_real"
   ]
  },
  {
   "cell_type": "code",
   "execution_count": 10,
   "metadata": {},
   "outputs": [
    {
     "name": "stdout",
     "output_type": "stream",
     "text": [
      "LOAD\n",
      "ACC: 10.0\n",
      "SUB\n",
      "9.0\n",
      "BRPOS\n",
      "SUB\n",
      "8.0\n",
      "BRPOS\n",
      "SUB\n",
      "7.0\n",
      "BRPOS\n",
      "SUB\n",
      "6.0\n",
      "BRPOS\n",
      "SUB\n",
      "5.0\n",
      "BRPOS\n",
      "SUB\n",
      "4.0\n",
      "BRPOS\n",
      "SUB\n",
      "3.0\n",
      "BRPOS\n",
      "SUB\n",
      "2.0\n",
      "BRPOS\n",
      "SUB\n",
      "1.0\n",
      "BRPOS\n",
      "SUB\n",
      "0.0\n",
      "BRPOS\n",
      "PROCESSO ENCERRADO\n"
     ]
    }
   ],
   "source": [
    "os1.executa_processo(os1.tempo_real[0])"
   ]
  }
 ],
 "metadata": {
  "kernelspec": {
   "display_name": "ambiente_geral",
   "language": "python",
   "name": "python3"
  },
  "language_info": {
   "codemirror_mode": {
    "name": "ipython",
    "version": 3
   },
   "file_extension": ".py",
   "mimetype": "text/x-python",
   "name": "python",
   "nbconvert_exporter": "python",
   "pygments_lexer": "ipython3",
   "version": "3.12.0"
  }
 },
 "nbformat": 4,
 "nbformat_minor": 2
}
